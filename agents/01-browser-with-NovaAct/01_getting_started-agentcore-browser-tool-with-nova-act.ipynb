{
 "cells": [
  {
   "cell_type": "markdown",
   "id": "b29d23c8",
   "metadata": {},
   "source": [
    "# Basic Browser tool usage with Amazon Nova Act SDK\n",
    "\n",
    "## Overview\n",
    "\n",
    "In this tutorial we will learn how to use Nova Act SDK to use with Amazon Bedrock Agentcore Browser tool. We will provide examples of using the browser tool headless and view the browser live.\n",
    "\n",
    "\n",
    "### Tutorial Details\n",
    "\n",
    "\n",
    "| Information         | Details                                                                          |\n",
    "|:--------------------|:---------------------------------------------------------------------------------|\n",
    "| Tutorial type       | Conversational                                                                   |\n",
    "| Agent type          | Single                                                                           |\n",
    "| Agentic Framework   | Nova Act                                                                         |\n",
    "| LLM model           | Amazon Nova Act model                                                            |\n",
    "| Tutorial components | Using NovaAct to interact with browser tool in a headless way                    |\n",
    "| Tutorial vertical   | vertical                                                                         |\n",
    "| Example complexity  | Easy                                                                             |\n",
    "| SDK used            | Amazon BedrockAgentCore Python SDK, Nova Act                                     |\n",
    "\n",
    "### Tutorial Architecture\n",
    "\n",
    "In this tutorial we will describe how to use Nova Act with browser tool.  \n",
    "\n",
    "In our example we will send natural language instructions to the Nova Act agent to perform tasks on the Bedrock Agentcore browser in a headless way.\n",
    "\n",
    "### Tutorial Key Features\n",
    "\n",
    "* Using browser tool in a headless way\n",
    "* Using Nova Act with browser tool"
   ]
  },
  {
   "cell_type": "markdown",
   "id": "41b469ca",
   "metadata": {},
   "source": [
    "## Prerequisites\n",
    "\n",
    "To execute this tutorial you will need:\n",
    "* Python 3.10+\n",
    "* AWS credentials\n",
    "* Amazon Bedrock AgentCore SDK\n",
    "* Nova Act SDK and API key "
   ]
  },
  {
   "cell_type": "code",
   "execution_count": 2,
   "id": "54599986-8436-4816-a06f-f816fb1eefb8",
   "metadata": {},
   "outputs": [
    {
     "name": "stdout",
     "output_type": "stream",
     "text": [
      "Collecting numpy==1.26.4\n",
      "  Using cached numpy-1.26.4-cp311-cp311-macosx_11_0_arm64.whl.metadata (114 kB)\n",
      "Using cached numpy-1.26.4-cp311-cp311-macosx_11_0_arm64.whl (14.0 MB)\n",
      "Installing collected packages: numpy\n",
      "  Attempting uninstall: numpy\n",
      "    Found existing installation: numpy 2.2.6\n",
      "    Uninstalling numpy-2.2.6:\n",
      "      Successfully uninstalled numpy-2.2.6\n",
      "Successfully installed numpy-1.26.4\n",
      "Note: you may need to restart the kernel to use updated packages.\n"
     ]
    }
   ],
   "source": [
    "pip install numpy==1.26.4"
   ]
  },
  {
   "cell_type": "code",
   "execution_count": 3,
   "id": "33245169",
   "metadata": {},
   "outputs": [
    {
     "name": "stdout",
     "output_type": "stream",
     "text": [
      "\u001b[31mERROR: pip's dependency resolver does not currently take into account all the packages that are installed. This behaviour is the source of the following dependency conflicts.\n",
      "langchain-aws 0.2.33 requires numpy<2,>=1; python_version < \"3.12\", but you have numpy 2.2.6 which is incompatible.\u001b[0m\u001b[31m\n",
      "\u001b[0m"
     ]
    }
   ],
   "source": [
    "!pip install --force-reinstall -U -r requirements.txt --quiet"
   ]
  },
  {
   "cell_type": "markdown",
   "id": "513a5a71",
   "metadata": {},
   "source": [
    "## Using NovaAct with Bedrock Agentcore Browser tool\n",
    "We will create a python script that can be run locally. In the script, Nova Act will use the browser session's CDP endpoint to connect to it and perform playwright actuations. "
   ]
  },
  {
   "cell_type": "code",
   "execution_count": 4,
   "id": "ff93fb3f",
   "metadata": {},
   "outputs": [
    {
     "name": "stdout",
     "output_type": "stream",
     "text": [
      "Writing basic_browser_with_nova_act.py\n"
     ]
    }
   ],
   "source": [
    "%%writefile basic_browser_with_nova_act.py\n",
    "\"\"\"Browser automation script using Amazon Bedrock AgentCore and Nova Act.\n",
    "\n",
    "This script demonstrates AI-powered web automation by:\n",
    "- Initializing a browser session through Amazon Bedrock AgentCore\n",
    "- Connecting to Nova Act for natural language web interactions\n",
    "- Performing automated searches and data extraction using browser\n",
    "\"\"\"\n",
    "\n",
    "from bedrock_agentcore.tools.browser_client import browser_session\n",
    "from nova_act import NovaAct\n",
    "from rich.console import Console\n",
    "import argparse\n",
    "import json\n",
    "\n",
    "console = Console()\n",
    "\n",
    "from boto3.session import Session\n",
    "\n",
    "boto_session = Session()\n",
    "region = boto_session.region_name\n",
    "print(\"using region\", region)\n",
    "\n",
    "def browser_with_nova_act(prompt, starting_page, nova_act_key, region=\"us-west-2\"):\n",
    "    result = None\n",
    "    with browser_session(region) as client:\n",
    "        ws_url, headers = client.generate_ws_headers()\n",
    "        try:\n",
    "            with NovaAct(\n",
    "                cdp_endpoint_url=ws_url,\n",
    "                cdp_headers=headers,\n",
    "                preview={\"playwright_actuation\": True},\n",
    "                nova_act_api_key=nova_act_key,\n",
    "                starting_page=starting_page,\n",
    "            ) as nova_act:\n",
    "                result = nova_act.act(prompt)\n",
    "        except Exception as e:\n",
    "            console.print(f\"NovaAct error: {e}\")\n",
    "        finally:\n",
    "            return result\n",
    "\n",
    "\n",
    "if __name__ == \"__main__\":\n",
    "    parser = argparse.ArgumentParser()\n",
    "    parser.add_argument(\"--prompt\", required=True, help=\"Browser Search instruction\")\n",
    "    parser.add_argument(\"--starting-page\", required=True, help=\"Starting URL\")\n",
    "    parser.add_argument(\"--nova-act-key\", required=True, help=\"Nova Act API key\")\n",
    "    parser.add_argument(\"--region\", default=\"us-west-2\", help=\"AWS region\")\n",
    "    args = parser.parse_args()\n",
    "\n",
    "    result = browser_with_nova_act(\n",
    "        args.prompt, args.starting_page, args.nova_act_key, args.region\n",
    "    )\n",
    "    console.print(f\"\\n[cyan] Response[/cyan] {result.response}\")\n",
    "    console.print(f\"\\n[bold green]Nova Act Result:[/bold green] {result}\")"
   ]
  },
  {
   "cell_type": "markdown",
   "id": "242ce323",
   "metadata": {},
   "source": [
    "#### Running the script\n",
    "Paste your Nova Act API key below before running the script. "
   ]
  },
  {
   "cell_type": "code",
   "execution_count": 5,
   "id": "a1a93105",
   "metadata": {},
   "outputs": [],
   "source": [
    "NOVA_ACT_KEY= '50d5f914-8f10-4a14-be4c-2f51f31af940' ### Paste your Nova Act Key here"
   ]
  },
  {
   "cell_type": "code",
   "execution_count": 6,
   "id": "405a6753",
   "metadata": {},
   "outputs": [
    {
     "name": "stdout",
     "output_type": "stream",
     "text": [
      "using region us-east-1\n",
      "2025-09-22 13:58:32,960 - nova_act.nova_act - WARNING - No preview features in this release! Check back soon!\n",
      "\n",
      "• If you are looking for Playwright Actuation, it is now the default, so no parameters are needed!\n",
      "• If you are looking for Custom Actuators, they can now be passed directly in the `actuator` param.\n",
      "2025-09-22 13:58:32,960 - nova_act.nova_act - WARNING - No preview features in this release! Check back soon!\n",
      "\n",
      "• If you are looking for Playwright Actuation, it is now the default, so no parameters are needed!\n",
      "• If you are looking for Custom Actuators, they can now be passed directly in the `actuator` param.\n",
      "\n",
      "start session e00c9539-27d1-48f6-905f-aa59ce02acda on https://www.amazon.com/ logs dir /var/folders/h_/fl30x8w52y55k21qz1_pl8fm0000gn/T/tmpsnve7uoe_nova_act_logs/e00c9539-27d1-48f6-905f-aa59ce02acda\n",
      "\n",
      "e00c> act(\"Search for macbooks and extract the details of the first one\")\n",
      "...\n",
      "e00c> think(\"I am on the amazon homepage. My task is to search for macbooks and extract the details of the first one. I see a search field, but it is empty. I need to type 'macbooks' into the search field to begin my search.\");\n",
      ">> agentType(\"macbooks\", \" <box>11,403,49,990</box> \");\n",
      "...\n",
      "e00c> think(\"The search field now contains 'macbooks', but the search has not been initiated. I need to click the search icon to initiate the search.\");\n",
      ">> agentClick(\" <box>9,990,49,1034</box> \");\n",
      "...\n",
      "e00c> think(\"I am now on the search results page for macbooks, so my last action was successful. I see the first result, but it has not been selected. I need to click the first result to open it.\");\n",
      ">> agentClick(\" <box>582,589,632,1407</box> \");\n",
      "...\n",
      "e00c> think(\"I am now on the product page for the first result, so my last action was successful. I have searched for macbooks and extracted the details of the first one. My task is complete, and I need to return the details of the first result.\");\n",
      ">> return \"Apple 2025 MacBook Air 13-inch Laptop with M4 chip: Built for Apple Intelligence, 13.6-inch Liquid Retina Display, 16GB Unified Memory, 256GB SSD Storage, 12MP Center Stage Camera, Touch ID; Midnight\";\n",
      "\n",
      "e00c> ** View your act run here: /var/folders/h_/fl30x8w52y55k21qz1_pl8fm0000gn/T/tmpsnve7uoe_nova_act_logs/e00c9539-27d1-48f6-905f-aa59ce02acda/act_df1e9d8b-e045-4527-ad41-470595c25bb1_Search_for_macbooks_and_extrac.html\n",
      "\n",
      "\n",
      "end session: e00c9539-27d1-48f6-905f-aa59ce02acda\n",
      "\n",
      "\n",
      "\u001b[36m Response\u001b[0m Apple \u001b[1;36m2025\u001b[0m MacBook Air \u001b[1;36m13\u001b[0m-inch Laptop with M4 chip: Built for Apple \n",
      "Intelligence, \u001b[1;36m13.6\u001b[0m-inch Liquid Retina Display, 16GB Unified Memory, 256GB SSD \n",
      "Storage, 12MP Center Stage Camera, Touch ID; Midnight\n",
      "\n",
      "\u001b[1;32mNova Act Result:\u001b[0m \u001b[1;35mActResult\u001b[0m\u001b[1m(\u001b[0m\n",
      "    response = Apple \u001b[1;36m2025\u001b[0m MacBook Air \u001b[1;36m13\u001b[0m-inch Laptop with M4 chip: Built for \n",
      "Apple Intelligence, \u001b[1;36m13.6\u001b[0m-inch Liquid Retina Display, 16GB Unified Memory, 256GB \n",
      "SSD Storage, 12MP Center Stage Camera, Touch ID; Midnight\n",
      "    parsed_response = \u001b[3;35mNone\u001b[0m\n",
      "    valid_json = \u001b[3;35mNone\u001b[0m\n",
      "    matches_schema = \u001b[3;35mNone\u001b[0m\n",
      "    metadata = \u001b[1;35mActMetadata\u001b[0m\u001b[1m(\u001b[0m\n",
      "        session_id = \u001b[93me00c9539-27d1-48f6-905f-aa59ce02acda\u001b[0m\n",
      "        act_id = \u001b[93mdf1e9d8b-e045-4527-ad41-470595c25bb1\u001b[0m\n",
      "        num_steps_executed = \u001b[1;36m4\u001b[0m\n",
      "        start_time = \u001b[1;36m2025\u001b[0m-\u001b[1;36m09\u001b[0m-\u001b[1;36m22\u001b[0m \u001b[1;92m13:58:42\u001b[0m.\u001b[1;36m234772\u001b[0m MST\n",
      "        end_time = \u001b[1;36m2025\u001b[0m-\u001b[1;36m09\u001b[0m-\u001b[1;36m22\u001b[0m \u001b[1;92m13:59:27\u001b[0m.\u001b[1;36m096841\u001b[0m MST\n",
      "        step_server_times_s = \u001b[1m[\u001b[0m\u001b[32m'4.649'\u001b[0m, \u001b[32m'4.938'\u001b[0m, \u001b[32m'5.180'\u001b[0m, \u001b[32m'5.854'\u001b[0m\u001b[1m]\u001b[0m\n",
      "        prompt = \u001b[32m'Search for macbooks and extract the details of the first one'\u001b[0m\n",
      "    \u001b[1m)\u001b[0m\n",
      "\u001b[1m)\u001b[0m\n"
     ]
    }
   ],
   "source": [
    "!python basic_browser_with_nova_act.py --prompt \"Search for macbooks and extract the details of the first one\" --starting-page \"https://www.amazon.com/\" --nova-act-key {NOVA_ACT_KEY}"
   ]
  },
  {
   "cell_type": "code",
   "execution_count": 7,
   "id": "84a53dff",
   "metadata": {},
   "outputs": [
    {
     "name": "stdout",
     "output_type": "stream",
     "text": [
      "using region us-east-1\n",
      "2025-09-22 13:59:58,049 - nova_act.nova_act - WARNING - No preview features in this release! Check back soon!\n",
      "\n",
      "• If you are looking for Playwright Actuation, it is now the default, so no parameters are needed!\n",
      "• If you are looking for Custom Actuators, they can now be passed directly in the `actuator` param.\n",
      "2025-09-22 13:59:58,049 - nova_act.nova_act - WARNING - No preview features in this release! Check back soon!\n",
      "\n",
      "• If you are looking for Playwright Actuation, it is now the default, so no parameters are needed!\n",
      "• If you are looking for Custom Actuators, they can now be passed directly in the `actuator` param.\n",
      "\n",
      "start session 4b61e137-9bbd-4ce3-894a-001c38abce7c on https://stockanalysis.com/stocks/amzn/financials/ logs dir /var/folders/h_/fl30x8w52y55k21qz1_pl8fm0000gn/T/tmpes10moke_nova_act_logs/4b61e137-9bbd-4ce3-894a-001c38abce7c\n",
      "\n",
      "4b61> act(\"Extract and return Amazon revenue for the last 4 years\")\n",
      "...\n",
      "4b61> think(\"I am on the Amazon.com, Inc. (AMZN) page on the stock analysis website. The task is to extract and return Amazon revenue for the last 4 years. I can see the Amazon revenue for the last 4 years on the page. I should return the Amazon revenue for the last 4 years in the format of a JSON array.\");\n",
      ">> return \"{\"revenue_usd_millions\": [670,038, 637,959, 574,785, 513,983]}\";\n",
      "\n",
      "4b61> ** View your act run here: /var/folders/h_/fl30x8w52y55k21qz1_pl8fm0000gn/T/tmpes10moke_nova_act_logs/4b61e137-9bbd-4ce3-894a-001c38abce7c/act_2bb79d86-d859-4c20-86d2-a25f1d1d07d8_Extract_and_return_Amazon_reve.html\n",
      "\n",
      "\n",
      "end session: 4b61e137-9bbd-4ce3-894a-001c38abce7c\n",
      "\n",
      "\n",
      "\u001b[36m Response\u001b[0m \u001b[1m{\u001b[0m\u001b[32m\"revenue_usd_millions\"\u001b[0m: \u001b[1m[\u001b[0m\u001b[1;36m670\u001b[0m,\u001b[1;36m038\u001b[0m, \u001b[1;36m637\u001b[0m,\u001b[1;36m959\u001b[0m, \u001b[1;36m574\u001b[0m,\u001b[1;36m785\u001b[0m, \u001b[1;36m513\u001b[0m,\u001b[1;36m983\u001b[0m\u001b[1m]\u001b[0m\u001b[1m}\u001b[0m\n",
      "\n",
      "\u001b[1;32mNova Act Result:\u001b[0m \u001b[1;35mActResult\u001b[0m\u001b[1m(\u001b[0m\n",
      "    response = \u001b[1m{\u001b[0m\u001b[32m\"revenue_usd_millions\"\u001b[0m: \u001b[1m[\u001b[0m\u001b[1;36m670\u001b[0m,\u001b[1;36m038\u001b[0m, \u001b[1;36m637\u001b[0m,\u001b[1;36m959\u001b[0m, \u001b[1;36m574\u001b[0m,\u001b[1;36m785\u001b[0m, \u001b[1;36m513\u001b[0m,\u001b[1;36m983\u001b[0m\u001b[1m]\u001b[0m\u001b[1m}\u001b[0m\n",
      "    parsed_response = \u001b[3;35mNone\u001b[0m\n",
      "    valid_json = \u001b[3;35mNone\u001b[0m\n",
      "    matches_schema = \u001b[3;35mNone\u001b[0m\n",
      "    metadata = \u001b[1;35mActMetadata\u001b[0m\u001b[1m(\u001b[0m\n",
      "        session_id = \u001b[93m4b61e137-9bbd-4ce3-894a-001c38abce7c\u001b[0m\n",
      "        act_id = \u001b[93m2bb79d86-d859-4c20-86d2-a25f1d1d07d8\u001b[0m\n",
      "        num_steps_executed = \u001b[1;36m1\u001b[0m\n",
      "        start_time = \u001b[1;36m2025\u001b[0m-\u001b[1;36m09\u001b[0m-\u001b[1;36m22\u001b[0m \u001b[1;92m14:00:06\u001b[0m.\u001b[1;36m865441\u001b[0m MST\n",
      "        end_time = \u001b[1;36m2025\u001b[0m-\u001b[1;36m09\u001b[0m-\u001b[1;36m22\u001b[0m \u001b[1;92m14:00:16\u001b[0m.\u001b[1;36m857363\u001b[0m MST\n",
      "        step_server_times_s = \u001b[1m[\u001b[0m\u001b[32m'5.612'\u001b[0m\u001b[1m]\u001b[0m\n",
      "        prompt = \u001b[32m'Extract and return Amazon revenue for the last 4 years'\u001b[0m\n",
      "    \u001b[1m)\u001b[0m\n",
      "\u001b[1m)\u001b[0m\n"
     ]
    }
   ],
   "source": [
    "!python basic_browser_with_nova_act.py --prompt \"Extract and return Amazon revenue for the last 4 years\" --starting-page \"https://stockanalysis.com/stocks/amzn/financials/\" --nova-act-key {NOVA_ACT_KEY}"
   ]
  },
  {
   "cell_type": "markdown",
   "id": "b1bc93bb",
   "metadata": {},
   "source": [
    "## What happened behind the scenes?\n",
    "\n",
    "* When you used `browser_session` to instantiate a browser client, it created a Browser client and started a session\n",
    "* Then you configured Nova Act to point to that browser session using the `cdp_endpoint_url` and `cdp_headers` \n",
    "* Nova ACT SDK now took your natural language instructions and created Playwright actuations on the browser. "
   ]
  },
  {
   "cell_type": "markdown",
   "id": "2945f9ba",
   "metadata": {},
   "source": [
    "# Congratulations!"
   ]
  }
 ],
 "metadata": {
  "kernelspec": {
   "display_name": "Python 3 (ipykernel)",
   "language": "python",
   "name": "python3"
  },
  "language_info": {
   "codemirror_mode": {
    "name": "ipython",
    "version": 3
   },
   "file_extension": ".py",
   "mimetype": "text/x-python",
   "name": "python",
   "nbconvert_exporter": "python",
   "pygments_lexer": "ipython3",
   "version": "3.11.4"
  }
 },
 "nbformat": 4,
 "nbformat_minor": 5
}
