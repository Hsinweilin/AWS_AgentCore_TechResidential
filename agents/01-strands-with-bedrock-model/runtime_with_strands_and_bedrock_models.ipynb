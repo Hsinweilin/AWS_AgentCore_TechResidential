{
 "cells": [
  {
   "cell_type": "markdown",
   "id": "5c0122e65c053f38",
   "metadata": {},
   "source": [
    "# Hosting Strands Agents with Amazon Bedrock models in Amazon Bedrock AgentCore Runtime\n",
    "\n",
    "## Overview\n",
    "\n",
    "In this tutorial we will learn how to host your existing agent, using Amazon Bedrock AgentCore Runtime. We will provide examples using Amazon Bedrock models and non-Bedrock models such as Azure OpenAI and Gemini.\n",
    "\n",
    "\n",
    "### Tutorial Details\n",
    "\n",
    "\n",
    "| Information         | Details                                                                          |\n",
    "|:--------------------|:---------------------------------------------------------------------------------|\n",
    "| Tutorial type       | Conversational                                                                   |\n",
    "| Agent type          | Single                                                                           |\n",
    "| Agentic Framework   | Strands Agents                                                                   |\n",
    "| LLM model           | Anthropic Claude Sonnet 3.7                                                        |\n",
    "| Tutorial components | Hosting agent on AgentCore Runtime. Using Strands Agent and Amazon Bedrock Model |\n",
    "| Tutorial vertical   | Cross-vertical                                                                   |\n",
    "| Example complexity  | Easy                                                                             |\n",
    "| SDK used            | Amazon BedrockAgentCore Python SDK and boto3                                     |\n",
    "\n",
    "### Tutorial Architecture\n",
    "\n",
    "In this tutorial we will describe how to deploy an existing agent to AgentCore runtime. \n",
    "\n",
    "For demonstration purposes, we will  use a Strands Agent using Amazon Bedrock models\n",
    "\n",
    "In our example we will use a very simple agent with two tools: `get_weather` and `get_time`. \n",
    "\n",
    "<div style=\"text-align:left\">\n",
    "    <img src=\"images/architecture_runtime.png\" width=\"50%\"/>\n",
    "</div>\n",
    "\n",
    "### Tutorial Key Features\n",
    "\n",
    "* Hosting Agents on Amazon Bedrock AgentCore Runtime\n",
    "* Using Amazon Bedrock models\n",
    "* Using Strands Agents\n"
   ]
  },
  {
   "cell_type": "markdown",
   "id": "3a676f58ecf52b42",
   "metadata": {},
   "source": [
    "## Prerequisites\n",
    "\n",
    "To execute this tutorial you will need:\n",
    "* Python 3.10+\n",
    "* AWS credentials\n",
    "* Amazon Bedrock AgentCore SDK\n",
    "* Strands Agents"
   ]
  },
  {
   "cell_type": "code",
   "execution_count": 2,
   "id": "initial_id",
   "metadata": {
    "jupyter": {
     "is_executing": true
    }
   },
   "outputs": [],
   "source": [
    "!pip install --force-reinstall -U -r requirements.txt --quiet"
   ]
  },
  {
   "cell_type": "markdown",
   "id": "ca924a7a2731e26f",
   "metadata": {},
   "source": [
    "## Creating your agents and experimenting locally\n",
    "\n",
    "Before we deploy our agents to AgentCore Runtime, let's develop and run them locally for experimentation purposes.\n",
    "\n",
    "For production agentic applications we will need to decouple the agent creation process from the agent invocation one. With AgentCore Runtime, we will decorate the invocation part of our agent with the `@app.entrypoint` decorator and have it as the entry point for our runtime. Let's first look how each agent is developed during the experimentation phase.\n",
    "\n",
    "The architecture here will look as following:\n",
    "\n",
    "<div style=\"text-align:left\">\n",
    "    <img src=\"images/architecture_local.png\" width=\"50%\"/>\n",
    "</div>"
   ]
  },
  {
   "cell_type": "code",
   "execution_count": 3,
   "id": "b7d386ab54e85e63",
   "metadata": {},
   "outputs": [
    {
     "name": "stdout",
     "output_type": "stream",
     "text": [
      "Writing strands_claude.py\n"
     ]
    }
   ],
   "source": [
    "%%writefile strands_claude.py\n",
    "from strands import Agent, tool\n",
    "from strands_tools import calculator # Import the calculator tool\n",
    "import argparse\n",
    "import json\n",
    "from strands.models import BedrockModel\n",
    "\n",
    "# Create a custom tool \n",
    "@tool\n",
    "def weather():\n",
    "    \"\"\" Get weather \"\"\" # Dummy implementation\n",
    "    return \"sunny\"\n",
    "\n",
    "\n",
    "model_id = \"us.anthropic.claude-3-7-sonnet-20250219-v1:0\"\n",
    "model = BedrockModel(\n",
    "    model_id=model_id,\n",
    ")\n",
    "agent = Agent(\n",
    "    model=model,\n",
    "    tools=[calculator, weather],\n",
    "    system_prompt=\"You're a helpful assistant. You can do simple math calculation, and tell the weather.\"\n",
    ")\n",
    "\n",
    "def strands_agent_bedrock(payload):\n",
    "    \"\"\"\n",
    "    Invoke the agent with a payload\n",
    "    \"\"\"\n",
    "    user_input = payload.get(\"prompt\")\n",
    "    response = agent(user_input)\n",
    "    return response.message['content'][0]['text']\n",
    "\n",
    "if __name__ == \"__main__\":\n",
    "    parser = argparse.ArgumentParser()\n",
    "    parser.add_argument(\"payload\", type=str)\n",
    "    args = parser.parse_args()\n",
    "    response = strands_agent_bedrock(json.loads(args.payload))"
   ]
  },
  {
   "cell_type": "markdown",
   "id": "68499675-db8d-47c6-8c0c-5d66dcb06229",
   "metadata": {},
   "source": [
    "#### Invoking local agent"
   ]
  },
  {
   "cell_type": "code",
   "execution_count": 9,
   "id": "1226d59e6b56c96",
   "metadata": {
    "ExecuteTime": {
     "end_time": "2025-06-29T21:52:06.461281Z",
     "start_time": "2025-06-29T21:52:06.456854Z"
    }
   },
   "outputs": [
    {
     "name": "stdout",
     "output_type": "stream",
     "text": [
      "I'd be happy to check the current weather for you. Let me get that information for you right away.\n",
      "Tool #1: weather\n",
      "The current weather is sunny! It's a beautiful day outside."
     ]
    }
   ],
   "source": [
    "!python strands_claude.py '{\"prompt\": \"What is the weather now?\"}'"
   ]
  },
  {
   "cell_type": "markdown",
   "id": "932110e6-fca6-47b6-b7c5-c4714a866a80",
   "metadata": {},
   "source": [
    "## Preparing your agent for deployment on AgentCore Runtime\n",
    "\n",
    "Let's now deploy our agents to AgentCore Runtime. To do so we need to:\n",
    "* Import the Runtime App with `from bedrock_agentcore.runtime import BedrockAgentCoreApp`\n",
    "* Initialize the App in our code with `app = BedrockAgentCoreApp()`\n",
    "* Decorate the invocation function with the `@app.entrypoint` decorator\n",
    "* Let AgentCoreRuntime control the running of the agent with `app.run()`\n",
    "\n",
    "### Strands Agents with Amazon Bedrock model\n",
    "Let's start with our Strands Agent using Amazon Bedrock model. All the others will work exactly the same."
   ]
  },
  {
   "cell_type": "code",
   "execution_count": 10,
   "id": "3b845b32-a03e-45c2-a2f0-2afba8069f47",
   "metadata": {},
   "outputs": [
    {
     "name": "stdout",
     "output_type": "stream",
     "text": [
      "Overwriting strands_claude.py\n"
     ]
    }
   ],
   "source": [
    "%%writefile strands_claude.py\n",
    "from strands import Agent, tool\n",
    "from strands_tools import calculator # Import the calculator tool\n",
    "import argparse\n",
    "import json\n",
    "from bedrock_agentcore.runtime import BedrockAgentCoreApp\n",
    "from strands.models import BedrockModel\n",
    "\n",
    "app = BedrockAgentCoreApp()\n",
    "\n",
    "# Create a custom tool \n",
    "@tool\n",
    "def weather():\n",
    "    \"\"\" Get weather \"\"\" # Dummy implementation\n",
    "    return \"sunny\"\n",
    "\n",
    "\n",
    "model_id = \"us.anthropic.claude-3-7-sonnet-20250219-v1:0\"\n",
    "model = BedrockModel(\n",
    "    model_id=model_id,\n",
    ")\n",
    "agent = Agent(\n",
    "    model=model,\n",
    "    tools=[calculator, weather],\n",
    "    system_prompt=\"You're a helpful assistant. You can do simple math calculation, and tell the weather.\"\n",
    ")\n",
    "\n",
    "@app.entrypoint\n",
    "def strands_agent_bedrock(payload):\n",
    "    \"\"\"\n",
    "    Invoke the agent with a payload\n",
    "    \"\"\"\n",
    "    user_input = payload.get(\"prompt\")\n",
    "    print(\"User input:\", user_input)\n",
    "    response = agent(user_input)\n",
    "    return response.message['content'][0]['text']\n",
    "\n",
    "if __name__ == \"__main__\":\n",
    "    app.run()"
   ]
  },
  {
   "cell_type": "markdown",
   "id": "c4ddbf0b",
   "metadata": {},
   "source": [
    "## Interactive Local Exploration\n",
    "\n",
    "Now let's explore your agent interactively right here in the notebook! This allows you to test and iterate quickly before any deployment."
   ]
  },
  {
   "cell_type": "code",
   "execution_count": 1,
   "id": "b192692a",
   "metadata": {},
   "outputs": [
    {
     "name": "stdout",
     "output_type": "stream",
     "text": [
      "✅ Agent initialized successfully! Ready for interactive exploration.\n"
     ]
    }
   ],
   "source": [
    "# Create and test the agent directly in the notebook\n",
    "from strands import Agent, tool\n",
    "from strands_tools import calculator\n",
    "from strands.models import BedrockModel\n",
    "\n",
    "# Create the same custom tool\n",
    "@tool\n",
    "def weather():\n",
    "    \"\"\" Get weather \"\"\" # Dummy implementation\n",
    "    return \"sunny\"\n",
    "\n",
    "# Initialize the agent\n",
    "model_id = \"us.anthropic.claude-3-7-sonnet-20250219-v1:0\"\n",
    "model = BedrockModel(model_id=model_id)\n",
    "agent = Agent(\n",
    "    model=model,\n",
    "    tools=[calculator, weather],\n",
    "    system_prompt=\"You're a helpful assistant. You can do simple math calculation, and tell the weather.\"\n",
    ")\n",
    "\n",
    "print(\"✅ Agent initialized successfully! Ready for interactive exploration.\")"
   ]
  },
  {
   "cell_type": "markdown",
   "id": "2bb1d2be",
   "metadata": {},
   "source": [
    "### ⚠️ **Important Note About AWS Usage**\n",
    "\n",
    "**YES** - The code above makes **REAL calls to AWS Bedrock Claude** using your local AWS credentials! \n",
    "\n",
    "When you run the cell above:\n",
    "- ✅ Uses your AWS credentials (from `~/.aws/credentials` or environment variables)\n",
    "- ✅ Makes actual API calls to `us.anthropic.claude-3-7-sonnet-20250219-v1:0` on AWS Bedrock\n",
    "- ✅ **Costs real money** - each call is billed to your AWS account\n",
    "- ✅ No Docker, no deployment needed - just direct API calls\n",
    "\n",
    "This is **pure local development** but with **real AWS services**."
   ]
  },
  {
   "cell_type": "markdown",
   "id": "9596845e",
   "metadata": {},
   "source": [
    "### 💰 **What Costs Money vs. What's Free**\n",
    "\n",
    "| Component | Cost | Explanation |\n",
    "|-----------|------|-------------|\n",
    "| **Jupyter Notebook** | 🆓 **FREE** | Running locally on your machine |\n",
    "| **Python execution** | 🆓 **FREE** | All local computation |\n",
    "| **uv package manager** | 🆓 **FREE** | Just manages Python packages |\n",
    "| **VS Code** | 🆓 **FREE** | Your editor environment |\n",
    "| | | |\n",
    "| **AWS Bedrock Claude API calls** | 💸 **COSTS MONEY** | Each `agent(\"question\")` call |\n",
    "| **AWS AgentCore Runtime** | 💸 **COSTS MONEY** | When deployed to AWS |\n",
    "\n",
    "**Bottom line:** Jupyter runs locally and is free. Only the actual calls to AWS Bedrock Claude cost money!"
   ]
  },
  {
   "cell_type": "markdown",
   "id": "260923e0",
   "metadata": {},
   "source": [
    "## 🚀 Adding Nova Act to Your Agent\n",
    "\n",
    "**Yes!** You can add Nova Act (Nova SDK) to your AgentCore Runtime agents. Here's how to integrate it with your Strands agent:\n",
    "\n",
    "### Option 1: Nova Act as a Tool\n",
    "Add Nova Act as a custom tool in your Strands agent:\n",
    "\n",
    "```python\n",
    "from nova_act import NovaAct\n",
    "from bedrock_agentcore.tools.browser_client import browser_session\n",
    "\n",
    "@tool\n",
    "def browse_with_nova(instruction: str, starting_url: str = \"https://google.com\"):\n",
    "    \"\"\"Use Nova Act to browse the web and complete tasks\"\"\"\n",
    "    with browser_session(\"us-west-2\") as browser_client:\n",
    "        ws_url, headers = browser_client.generate_ws_headers()\n",
    "        \n",
    "        with NovaAct(\n",
    "            cdp_endpoint_url=ws_url,\n",
    "            cdp_headers=headers,\n",
    "            nova_act_api_key=\"your-api-key\",\n",
    "            starting_page=starting_url,\n",
    "        ) as nova_act:\n",
    "            result = nova_act.act(instruction)\n",
    "            return str(result)\n",
    "```\n",
    "\n",
    "### Option 2: Direct Nova Act Integration\n",
    "Replace or enhance your agent with Nova Act capabilities alongside Claude."
   ]
  },
  {
   "cell_type": "code",
   "execution_count": null,
   "id": "70dfb7f7",
   "metadata": {},
   "outputs": [],
   "source": [
    "# Example: Enhanced Strands agent with Nova Act browser tool\n",
    "%%writefile enhanced_strands_claude_with_nova.py\n",
    "from strands import Agent, tool\n",
    "from strands_tools import calculator\n",
    "from strands.models import BedrockModel\n",
    "from bedrock_agentcore.runtime import BedrockAgentCoreApp\n",
    "from bedrock_agentcore.tools.browser_client import browser_session\n",
    "from nova_act import NovaAct\n",
    "import json\n",
    "\n",
    "app = BedrockAgentCoreApp()\n",
    "\n",
    "# Original custom tool \n",
    "@tool\n",
    "def weather():\n",
    "    \"\"\" Get weather \"\"\" \n",
    "    return \"sunny\"\n",
    "\n",
    "# NEW: Nova Act browser tool\n",
    "@tool\n",
    "def browse_web(instruction: str, starting_url: str = \"https://google.com\"):\n",
    "    \"\"\"Use Nova Act to browse the web and complete web-based tasks\n",
    "    \n",
    "    Args:\n",
    "        instruction: What you want to accomplish on the web\n",
    "        starting_url: URL to start from\n",
    "    \n",
    "    Returns:\n",
    "        Result of the web browsing task\n",
    "    \"\"\"\n",
    "    try:\n",
    "        with browser_session(\"us-eat-1\") as browser_client:\n",
    "            ws_url, headers = browser_client.generate_ws_headers()\n",
    "            \n",
    "            with NovaAct(\n",
    "                cdp_endpoint_url=ws_url,\n",
    "                cdp_headers=headers,\n",
    "                nova_act_api_key=\"your-nova-act-api-key\",  # Replace with your key\n",
    "                starting_page=starting_url,\n",
    "            ) as nova_act:\n",
    "                result = nova_act.act(instruction)\n",
    "                return f\"Web task completed: {str(result)}\"\n",
    "    except Exception as e:\n",
    "        return f\"Error browsing web: {str(e)}\"\n",
    "\n",
    "# Initialize enhanced agent with Nova Act\n",
    "model_id = \"us.anthropic.claude-3-7-sonnet-20250219-v1:0\"\n",
    "model = BedrockModel(model_id=model_id)\n",
    "\n",
    "agent = Agent(\n",
    "    model=model,\n",
    "    tools=[calculator, weather, browse_web],  # Now includes web browsing!\n",
    "    system_prompt=\"You're a helpful assistant. You can do math calculations, tell the weather, and browse the web to find information.\"\n",
    ")\n",
    "\n",
    "@app.entrypoint\n",
    "def enhanced_strands_agent(payload):\n",
    "    \"\"\"Enhanced agent that can browse the web\"\"\"\n",
    "    user_input = payload.get(\"prompt\")\n",
    "    print(\"User input:\", user_input)\n",
    "    response = agent(user_input)\n",
    "    return response.message['content'][0]['text']\n",
    "\n",
    "if __name__ == \"__main__\":\n",
    "    app.run()"
   ]
  },
  {
   "cell_type": "markdown",
   "id": "f14c9132",
   "metadata": {},
   "source": [
    "### 🔑 **Key Points for Nova Act in AgentCore Runtime:**\n",
    "\n",
    "1. **Requirements**: Add `nova-act` to your `requirements.txt`\n",
    "2. **API Key**: You'll need a Nova Act API key (like you see in the browser tool notebook)\n",
    "3. **Browser Session**: Uses AgentCore browser tools for web interaction\n",
    "4. **Deployment**: Works in all deployment modes:\n",
    "   - ✅ Interactive notebook (local)\n",
    "   - ✅ Local HTTP server (`agentcore launch --local`)\n",
    "   - ✅ AWS AgentCore Runtime (deployed)\n",
    "\n",
    "### 💸 **Additional Costs:**\n",
    "- **Nova Act API calls** - separate from AWS costs\n",
    "- **AgentCore Browser Tool** - AWS charges for browser sessions\n",
    "\n",
    "### 🎯 **Use Cases:**\n",
    "- Web scraping and data extraction\n",
    "- Form filling and web automation  \n",
    "- Research and information gathering\n",
    "- E-commerce interactions"
   ]
  },
  {
   "cell_type": "code",
   "execution_count": null,
   "id": "0fb88b9c",
   "metadata": {},
   "outputs": [],
   "source": [
    "# Test 1: Weather tool\n",
    "response1 = agent(\"What's the weather like?\")\n",
    "print(\"🌤️ Weather Query:\")\n",
    "print(response1.message['content'][0]['text'])\n",
    "print(\"\\n\" + \"=\"*50 + \"\\n\")"
   ]
  },
  {
   "cell_type": "code",
   "execution_count": 30,
   "id": "57cbaa16",
   "metadata": {},
   "outputs": [
    {
     "name": "stdout",
     "output_type": "stream",
     "text": [
      "I'll calculate that for you using the calculator tool.\n",
      "Tool #2: calculator\n"
     ]
    },
    {
     "data": {
      "text/html": [
       "<pre style=\"white-space:pre;overflow-x:auto;line-height:normal;font-family:Menlo,'DejaVu Sans Mono',consolas,'Courier New',monospace\"><span style=\"color: #000080; text-decoration-color: #000080\">╭────────────────────────────────────────────── </span><span style=\"color: #000080; text-decoration-color: #000080; font-weight: bold\">Calculation Result</span><span style=\"color: #000080; text-decoration-color: #000080\"> ───────────────────────────────────────────────╮</span>\n",
       "<span style=\"color: #000080; text-decoration-color: #000080\">│</span>                                                                                                                 <span style=\"color: #000080; text-decoration-color: #000080\">│</span>\n",
       "<span style=\"color: #000080; text-decoration-color: #000080\">│</span>  ╭───────────┬─────────────────────╮                                                                            <span style=\"color: #000080; text-decoration-color: #000080\">│</span>\n",
       "<span style=\"color: #000080; text-decoration-color: #000080\">│</span>  │<span style=\"color: #008080; text-decoration-color: #008080\"> Operation </span>│<span style=\"color: #008000; text-decoration-color: #008000\"> Evaluate Expression </span>│                                                                            <span style=\"color: #000080; text-decoration-color: #000080\">│</span>\n",
       "<span style=\"color: #000080; text-decoration-color: #000080\">│</span>  │<span style=\"color: #008080; text-decoration-color: #008080\"> Input     </span>│<span style=\"color: #008000; text-decoration-color: #008000\"> 15 * 23 + 7         </span>│                                                                            <span style=\"color: #000080; text-decoration-color: #000080\">│</span>\n",
       "<span style=\"color: #000080; text-decoration-color: #000080\">│</span>  │<span style=\"color: #008080; text-decoration-color: #008080\"> Result    </span>│<span style=\"color: #008000; text-decoration-color: #008000\"> 352                 </span>│                                                                            <span style=\"color: #000080; text-decoration-color: #000080\">│</span>\n",
       "<span style=\"color: #000080; text-decoration-color: #000080\">│</span>  ╰───────────┴─────────────────────╯                                                                            <span style=\"color: #000080; text-decoration-color: #000080\">│</span>\n",
       "<span style=\"color: #000080; text-decoration-color: #000080\">│</span>                                                                                                                 <span style=\"color: #000080; text-decoration-color: #000080\">│</span>\n",
       "<span style=\"color: #000080; text-decoration-color: #000080\">╰─────────────────────────────────────────────────────────────────────────────────────────────────────────────────╯</span>\n",
       "</pre>\n"
      ],
      "text/plain": [
       "\u001b[34m╭─\u001b[0m\u001b[34m─────────────────────────────────────────────\u001b[0m\u001b[34m \u001b[0m\u001b[1;34mCalculation Result\u001b[0m\u001b[34m \u001b[0m\u001b[34m──────────────────────────────────────────────\u001b[0m\u001b[34m─╮\u001b[0m\n",
       "\u001b[34m│\u001b[0m                                                                                                                 \u001b[34m│\u001b[0m\n",
       "\u001b[34m│\u001b[0m  ╭───────────┬─────────────────────╮                                                                            \u001b[34m│\u001b[0m\n",
       "\u001b[34m│\u001b[0m  │\u001b[36m \u001b[0m\u001b[36mOperation\u001b[0m\u001b[36m \u001b[0m│\u001b[32m \u001b[0m\u001b[32mEvaluate Expression\u001b[0m\u001b[32m \u001b[0m│                                                                            \u001b[34m│\u001b[0m\n",
       "\u001b[34m│\u001b[0m  │\u001b[36m \u001b[0m\u001b[36mInput    \u001b[0m\u001b[36m \u001b[0m│\u001b[32m \u001b[0m\u001b[32m15 * 23 + 7        \u001b[0m\u001b[32m \u001b[0m│                                                                            \u001b[34m│\u001b[0m\n",
       "\u001b[34m│\u001b[0m  │\u001b[36m \u001b[0m\u001b[36mResult   \u001b[0m\u001b[36m \u001b[0m│\u001b[32m \u001b[0m\u001b[32m352                \u001b[0m\u001b[32m \u001b[0m│                                                                            \u001b[34m│\u001b[0m\n",
       "\u001b[34m│\u001b[0m  ╰───────────┴─────────────────────╯                                                                            \u001b[34m│\u001b[0m\n",
       "\u001b[34m│\u001b[0m                                                                                                                 \u001b[34m│\u001b[0m\n",
       "\u001b[34m╰─────────────────────────────────────────────────────────────────────────────────────────────────────────────────╯\u001b[0m\n"
      ]
     },
     "metadata": {},
     "output_type": "display_data"
    },
    {
     "name": "stdout",
     "output_type": "stream",
     "text": [
      "The answer is 352.\n",
      "\n",
      "To break it down: 15 multiplied by 23 equals 345, and then adding 7 gives you 352.🧮 Math Query:\n",
      "The answer is 352.\n",
      "\n",
      "To break it down: 15 multiplied by 23 equals 345, and then adding 7 gives you 352.\n",
      "\n",
      "==================================================\n",
      "\n"
     ]
    }
   ],
   "source": [
    "# Test 2: Calculator tool\n",
    "response2 = agent(\"What's 15 * 23 + 7?\")\n",
    "print(\"🧮 Math Query:\")\n",
    "print(response2.message['content'][0]['text'])\n",
    "print(\"\\n\" + \"=\"*50 + \"\\n\")"
   ]
  },
  {
   "cell_type": "code",
   "execution_count": null,
   "id": "e7ec2dac",
   "metadata": {},
   "outputs": [],
   "source": [
    "# 🚀 Try your own queries! Change the prompt below:\n",
    "your_query = \"Can you calculate the square root of 144 and also tell me the weather?\"\n",
    "\n",
    "response = agent(your_query)\n",
    "print(f\"❓ Your Query: {your_query}\")\n",
    "print(f\"🤖 Agent Response:\")\n",
    "print(response.message['content'][0]['text'])"
   ]
  },
  {
   "cell_type": "markdown",
   "id": "1cc6f997",
   "metadata": {},
   "source": [
    "## Different Ways to Run Your Agent Locally\n",
    "\n",
    "You now have **3 different approaches** for local development:\n",
    "\n",
    "### 1. **Interactive Notebook** (Above cells) ⚡\n",
    "- **Fastest for experimentation**\n",
    "- Test directly in Jupyter\n",
    "- Perfect for iterating on prompts and tools\n",
    "- No HTTP overhead\n",
    "\n",
    "### 2. **Command Line Script** (Cell 5 approach)\n",
    "```bash\n",
    "python strands_claude.py '{\"prompt\": \"What is the weather now?\"}'\n",
    "```\n",
    "\n",
    "### 3. **Local HTTP Server** (What you did with `agentcore launch --local`)\n",
    "```bash\n",
    "# Start the server (from your terminal history)\n",
    "agentcore launch --local\n",
    "\n",
    "# Test with curl (from another terminal)\n",
    "curl -X POST http://localhost:8080/invocations \\\n",
    "  -H \"Content-Type: application/json\" \\\n",
    "  -d '{\"prompt\": \"What is the weather now?\"}'\n",
    "```\n",
    "\n",
    "**💡 Recommendation:** Start with approach #1 (notebook) for quick testing, then use #3 (local server) to test the HTTP interface before AWS deployment!"
   ]
  },
  {
   "cell_type": "markdown",
   "id": "c64db7b5-0f1b-475f-9bf2-467b4449d46a",
   "metadata": {},
   "source": [
    "## What happens behind the scenes?\n",
    "\n",
    "When you use `BedrockAgentCoreApp`, it automatically:\n",
    "\n",
    "* Creates an HTTP server that listens on the port 8080\n",
    "* Implements the required `/invocations` endpoint for processing the agent's requirements\n",
    "* Implements the `/ping` endpoint for health checks (very important for asynchronous agents)\n",
    "* Handles proper content types and response formats\n",
    "* Manages error handling according to the AWS standards"
   ]
  },
  {
   "cell_type": "markdown",
   "id": "6820ca8f-a8a8-4f34-b4ef-b6dad3776261",
   "metadata": {},
   "source": [
    "## Deploying the agent to AgentCore Runtime\n",
    "\n",
    "The `CreateAgentRuntime` operation supports comprehensive configuration options, letting you specify container images, environment variables and encryption settings. You can also configure protocol settings (HTTP, MCP) and authorization mechanisms to control how your clients communicate with the agent. \n",
    "\n",
    "**Note:** Operations best practice is to package code as container and push to ECR using CI/CD pipelines and IaC\n",
    "\n",
    "In this tutorial can will the Amazon Bedrock AgentCore Python SDK to easily package your artifacts and deploy them to AgentCore runtime."
   ]
  },
  {
   "cell_type": "markdown",
   "id": "8855aceb-b79f-4aaa-b16f-8577c059816a",
   "metadata": {},
   "source": [
    "### Configure AgentCore Runtime deployment\n",
    "\n",
    "First we will use our starter toolkit to configure the AgentCore Runtime deployment with an entrypoint, the execution role we just created and a requirements file. We will also configure the starter kit to auto create the Amazon ECR repository on launch.\n",
    "\n",
    "During the configure step, your docker file will be generated based on your application code\n",
    "\n",
    "<div style=\"text-align:left\">\n",
    "    <img src=\"images/configure.png\" width=\"60%\"/>\n",
    "</div>"
   ]
  },
  {
   "cell_type": "code",
   "execution_count": 12,
   "id": "2e79eba2-ca59-463f-9ebf-56e362d7ae66",
   "metadata": {},
   "outputs": [
    {
     "name": "stderr",
     "output_type": "stream",
     "text": [
      "Entrypoint parsed: file=/Users/hsin-weilin/Desktop/projects/amazon-bedrock-agentcore-samples/01-tutorials/01-AgentCore-runtime/01-hosting-agent/01-strands-with-bedrock-model/strands_claude.py, bedrock_agentcore_name=strands_claude\n",
      "Configuring BedrockAgentCore agent: strands_claude_getting_started\n",
      "Generated Dockerfile: /Users/hsin-weilin/Desktop/projects/amazon-bedrock-agentcore-samples/01-tutorials/01-AgentCore-runtime/01-hosting-agent/01-strands-with-bedrock-model/Dockerfile\n",
      "Generated .dockerignore: /Users/hsin-weilin/Desktop/projects/amazon-bedrock-agentcore-samples/01-tutorials/01-AgentCore-runtime/01-hosting-agent/01-strands-with-bedrock-model/.dockerignore\n",
      "Keeping 'strands_claude_getting_started' as default agent\n",
      "Bedrock AgentCore configured: /Users/hsin-weilin/Desktop/projects/amazon-bedrock-agentcore-samples/01-tutorials/01-AgentCore-runtime/01-hosting-agent/01-strands-with-bedrock-model/.bedrock_agentcore.yaml\n"
     ]
    },
    {
     "data": {
      "text/plain": [
       "ConfigureResult(config_path=PosixPath('/Users/hsin-weilin/Desktop/projects/amazon-bedrock-agentcore-samples/01-tutorials/01-AgentCore-runtime/01-hosting-agent/01-strands-with-bedrock-model/.bedrock_agentcore.yaml'), dockerfile_path=PosixPath('/Users/hsin-weilin/Desktop/projects/amazon-bedrock-agentcore-samples/01-tutorials/01-AgentCore-runtime/01-hosting-agent/01-strands-with-bedrock-model/Dockerfile'), dockerignore_path=PosixPath('/Users/hsin-weilin/Desktop/projects/amazon-bedrock-agentcore-samples/01-tutorials/01-AgentCore-runtime/01-hosting-agent/01-strands-with-bedrock-model/.dockerignore'), runtime='Docker', region='us-east-1', account_id='254599367545', execution_role=None, ecr_repository=None, auto_create_ecr=True)"
      ]
     },
     "execution_count": 12,
     "metadata": {},
     "output_type": "execute_result"
    }
   ],
   "source": [
    "from bedrock_agentcore_starter_toolkit import Runtime\n",
    "from boto3.session import Session\n",
    "boto_session = Session()\n",
    "region = boto_session.region_name\n",
    "\n",
    "agentcore_runtime = Runtime()\n",
    "agent_name = \"strands_claude_getting_started\"\n",
    "response = agentcore_runtime.configure(\n",
    "    entrypoint=\"strands_claude.py\",\n",
    "    auto_create_execution_role=True,\n",
    "    auto_create_ecr=True,\n",
    "    requirements_file=\"requirements.txt\",\n",
    "    region=region,\n",
    "    agent_name=agent_name\n",
    ")\n",
    "response"
   ]
  },
  {
   "cell_type": "markdown",
   "id": "9e1b84cc-798e-472c-ac0b-2c315f4b704d",
   "metadata": {},
   "source": [
    "### Launching agent to AgentCore Runtime\n",
    "\n",
    "Now that we've got a docker file, let's launch the agent to the AgentCore Runtime. This will create the Amazon ECR repository and the AgentCore Runtime\n",
    "\n",
    "<div style=\"text-align:left\">\n",
    "    <img src=\"images/launch.png\" width=\"75%\"/>\n",
    "</div>"
   ]
  },
  {
   "cell_type": "code",
   "execution_count": 13,
   "id": "17a32ab8-7701-4900-8055-e24364bdf35c",
   "metadata": {},
   "outputs": [
    {
     "name": "stderr",
     "output_type": "stream",
     "text": [
      "🚀 CodeBuild mode: building in cloud (RECOMMENDED - DEFAULT)\n",
      "   • Build ARM64 containers in the cloud with CodeBuild\n",
      "   • No local Docker required\n",
      "💡 Available deployment modes:\n",
      "   • runtime.launch()                           → CodeBuild (current)\n",
      "   • runtime.launch(local=True)                 → Local development\n",
      "   • runtime.launch(local_build=True)           → Local build + cloud deploy (NEW)\n",
      "Starting CodeBuild ARM64 deployment for agent 'strands_claude_getting_started' to account 254599367545 (us-east-1)\n",
      "Setting up AWS resources (ECR repository, execution roles)...\n",
      "Getting or creating ECR repository for agent: strands_claude_getting_started\n"
     ]
    },
    {
     "name": "stdout",
     "output_type": "stream",
     "text": [
      "Repository doesn't exist, creating new ECR repository: bedrock-agentcore-strands_claude_getting_started\n"
     ]
    },
    {
     "name": "stderr",
     "output_type": "stream",
     "text": [
      "✅ ECR repository available: 254599367545.dkr.ecr.us-east-1.amazonaws.com/bedrock-agentcore-strands_claude_getting_started\n",
      "Getting or creating execution role for agent: strands_claude_getting_started\n",
      "Using AWS region: us-east-1, account ID: 254599367545\n",
      "Role name: AmazonBedrockAgentCoreSDKRuntime-us-east-1-8556fc4504\n",
      "Role doesn't exist, creating new execution role: AmazonBedrockAgentCoreSDKRuntime-us-east-1-8556fc4504\n",
      "Starting execution role creation process for agent: strands_claude_getting_started\n",
      "✓ Role creating: AmazonBedrockAgentCoreSDKRuntime-us-east-1-8556fc4504\n",
      "Creating IAM role: AmazonBedrockAgentCoreSDKRuntime-us-east-1-8556fc4504\n",
      "✓ Role created: arn:aws:iam::254599367545:role/AmazonBedrockAgentCoreSDKRuntime-us-east-1-8556fc4504\n",
      "✓ Execution policy attached: BedrockAgentCoreRuntimeExecutionPolicy-strands_claude_getting_started\n",
      "Role creation complete and ready for use with Bedrock AgentCore\n",
      "✅ Execution role available: arn:aws:iam::254599367545:role/AmazonBedrockAgentCoreSDKRuntime-us-east-1-8556fc4504\n",
      "Preparing CodeBuild project and uploading source...\n",
      "Getting or creating CodeBuild execution role for agent: strands_claude_getting_started\n",
      "Role name: AmazonBedrockAgentCoreSDKCodeBuild-us-east-1-8556fc4504\n",
      "CodeBuild role doesn't exist, creating new role: AmazonBedrockAgentCoreSDKCodeBuild-us-east-1-8556fc4504\n",
      "Creating IAM role: AmazonBedrockAgentCoreSDKCodeBuild-us-east-1-8556fc4504\n",
      "✓ Role created: arn:aws:iam::254599367545:role/AmazonBedrockAgentCoreSDKCodeBuild-us-east-1-8556fc4504\n",
      "Attaching inline policy: CodeBuildExecutionPolicy to role: AmazonBedrockAgentCoreSDKCodeBuild-us-east-1-8556fc4504\n",
      "✓ Policy attached: CodeBuildExecutionPolicy\n",
      "Waiting for IAM role propagation...\n",
      "CodeBuild execution role creation complete: arn:aws:iam::254599367545:role/AmazonBedrockAgentCoreSDKCodeBuild-us-east-1-8556fc4504\n",
      "Created S3 bucket: bedrock-agentcore-codebuild-sources-254599367545-us-east-1\n",
      "Using .dockerignore with 44 patterns\n",
      "Uploaded source to S3: strands_claude_getting_started/source.zip\n",
      "Created CodeBuild project: bedrock-agentcore-strands_claude_getting_started-builder\n",
      "Starting CodeBuild build (this may take several minutes)...\n",
      "Starting CodeBuild monitoring...\n",
      "🔄 QUEUED started (total: 0s)\n",
      "✅ QUEUED completed in 1.1s\n",
      "🔄 PROVISIONING started (total: 1s)\n",
      "✅ PROVISIONING completed in 8.9s\n",
      "🔄 DOWNLOAD_SOURCE started (total: 10s)\n",
      "✅ DOWNLOAD_SOURCE completed in 2.2s\n",
      "🔄 BUILD started (total: 12s)\n",
      "✅ BUILD completed in 14.5s\n",
      "🔄 POST_BUILD started (total: 27s)\n",
      "✅ POST_BUILD completed in 13.3s\n",
      "🔄 FINALIZING started (total: 40s)\n",
      "✅ FINALIZING completed in 1.1s\n",
      "🔄 COMPLETED started (total: 41s)\n",
      "✅ COMPLETED completed in 1.1s\n",
      "🎉 CodeBuild completed successfully in 0m 42s\n",
      "CodeBuild completed successfully\n",
      "✅ CodeBuild project configuration saved\n",
      "Deploying to Bedrock AgentCore...\n",
      "✅ Agent created/updated: arn:aws:bedrock-agentcore:us-east-1:254599367545:runtime/strands_claude_getting_started-I4bXK0B5GU\n",
      "Observability is enabled, configuring Transaction Search...\n",
      "Created/updated CloudWatch Logs resource policy\n",
      "Configured X-Ray trace segment destination to CloudWatch Logs\n",
      "X-Ray indexing rule already configured\n",
      "✅ Transaction Search configured: resource_policy, trace_destination\n",
      "🔍 GenAI Observability Dashboard:\n",
      "   https://console.aws.amazon.com/cloudwatch/home?region=us-east-1#gen-ai-observability/agent-core\n",
      "Polling for endpoint to be ready...\n",
      "Agent endpoint: arn:aws:bedrock-agentcore:us-east-1:254599367545:runtime/strands_claude_getting_started-I4bXK0B5GU/runtime-endpoint/DEFAULT\n",
      "Deployment completed successfully - Agent: arn:aws:bedrock-agentcore:us-east-1:254599367545:runtime/strands_claude_getting_started-I4bXK0B5GU\n",
      "Built with CodeBuild: bedrock-agentcore-strands_claude_getting_started-builder:29fd253c-a08c-4992-a6c1-f22b9b8637dc\n",
      "Deployed to cloud: arn:aws:bedrock-agentcore:us-east-1:254599367545:runtime/strands_claude_getting_started-I4bXK0B5GU\n",
      "ECR image: 254599367545.dkr.ecr.us-east-1.amazonaws.com/bedrock-agentcore-strands_claude_getting_started\n",
      "🔍 Agent logs available at:\n",
      "   /aws/bedrock-agentcore/runtimes/strands_claude_getting_started-I4bXK0B5GU-DEFAULT --log-stream-name-prefix \"2025/09/19/\\[runtime-logs]\"\n",
      "   /aws/bedrock-agentcore/runtimes/strands_claude_getting_started-I4bXK0B5GU-DEFAULT --log-stream-names \"otel-rt-logs\"\n",
      "💡 Tail logs with: aws logs tail /aws/bedrock-agentcore/runtimes/strands_claude_getting_started-I4bXK0B5GU-DEFAULT --log-stream-name-prefix \"2025/09/19/\\[runtime-logs]\" --follow\n",
      "💡 Or view recent logs: aws logs tail /aws/bedrock-agentcore/runtimes/strands_claude_getting_started-I4bXK0B5GU-DEFAULT --log-stream-name-prefix \"2025/09/19/\\[runtime-logs]\" --since 1h\n"
     ]
    }
   ],
   "source": [
    "launch_result = agentcore_runtime.launch()"
   ]
  },
  {
   "cell_type": "markdown",
   "id": "a0ae9c09-09db-4a76-871a-92eacd96b9c3",
   "metadata": {},
   "source": [
    "### Checking for the AgentCore Runtime Status\n",
    "Now that we've deployed the AgentCore Runtime, let's check for it's deployment status"
   ]
  },
  {
   "cell_type": "code",
   "execution_count": 14,
   "id": "afa6ac09-9adb-4846-9fc1-4d12aeb74853",
   "metadata": {},
   "outputs": [
    {
     "name": "stderr",
     "output_type": "stream",
     "text": [
      "Retrieved Bedrock AgentCore status for: strands_claude_getting_started\n"
     ]
    },
    {
     "data": {
      "text/plain": [
       "'READY'"
      ]
     },
     "execution_count": 14,
     "metadata": {},
     "output_type": "execute_result"
    }
   ],
   "source": [
    "import time\n",
    "status_response = agentcore_runtime.status()\n",
    "status = status_response.endpoint['status']\n",
    "end_status = ['READY', 'CREATE_FAILED', 'DELETE_FAILED', 'UPDATE_FAILED']\n",
    "while status not in end_status:\n",
    "    time.sleep(10)\n",
    "    status_response = agentcore_runtime.status()\n",
    "    status = status_response.endpoint['status']\n",
    "    print(status)\n",
    "status"
   ]
  },
  {
   "cell_type": "markdown",
   "id": "b7f89c56-918a-4cab-beaa-c7ac43a2ba29",
   "metadata": {},
   "source": [
    "### Invoking AgentCore Runtime\n",
    "\n",
    "Finally, we can invoke our AgentCore Runtime with a payload\n",
    "\n",
    "<div style=\"text-align:left\">\n",
    "    <img src=\"images/invoke.png\" width=75%\"/>\n",
    "</div>"
   ]
  },
  {
   "cell_type": "code",
   "execution_count": 15,
   "id": "3d909e42-e1a0-407f-84c2-3d16cc889cd3",
   "metadata": {},
   "outputs": [
    {
     "data": {
      "text/plain": [
       "{'ResponseMetadata': {'RequestId': 'e76d3342-014d-4279-aab7-64821a869bca',\n",
       "  'HTTPStatusCode': 200,\n",
       "  'HTTPHeaders': {'date': 'Fri, 19 Sep 2025 22:10:19 GMT',\n",
       "   'content-type': 'application/json',\n",
       "   'transfer-encoding': 'chunked',\n",
       "   'connection': 'keep-alive',\n",
       "   'x-amzn-requestid': 'e76d3342-014d-4279-aab7-64821a869bca',\n",
       "   'baggage': 'Self=1-68cdd4c6-2e74eba22cf932807b2ed90e,session.id=b6b2210f-ddeb-4dab-8dcd-095d953d1c3e',\n",
       "   'x-amzn-bedrock-agentcore-runtime-session-id': 'b6b2210f-ddeb-4dab-8dcd-095d953d1c3e',\n",
       "   'x-amzn-trace-id': 'Root=1-68cdd4c6-50877977440f483001445efc;Self=1-68cdd4c6-2e74eba22cf932807b2ed90e'},\n",
       "  'RetryAttempts': 0},\n",
       " 'runtimeSessionId': 'b6b2210f-ddeb-4dab-8dcd-095d953d1c3e',\n",
       " 'traceId': 'Root=1-68cdd4c6-50877977440f483001445efc;Self=1-68cdd4c6-2e74eba22cf932807b2ed90e',\n",
       " 'baggage': 'Self=1-68cdd4c6-2e74eba22cf932807b2ed90e,session.id=b6b2210f-ddeb-4dab-8dcd-095d953d1c3e',\n",
       " 'contentType': 'application/json',\n",
       " 'statusCode': 200,\n",
       " 'response': [\"It's currently sunny outside! A beautiful day to enjoy some time outdoors if you're able to.\"]}"
      ]
     },
     "execution_count": 15,
     "metadata": {},
     "output_type": "execute_result"
    }
   ],
   "source": [
    "invoke_response = agentcore_runtime.invoke({\"prompt\": \"How is the weather now?\"})\n",
    "invoke_response"
   ]
  },
  {
   "cell_type": "markdown",
   "id": "fefa09f2-d25a-483f-aedb-11690bb8923a",
   "metadata": {},
   "source": [
    "### Processing invocation results\n",
    "\n",
    "We can now process our invocation results to include it in an application"
   ]
  },
  {
   "cell_type": "code",
   "execution_count": 22,
   "id": "11249103-cfb3-47b5-970d-981a977a225a",
   "metadata": {},
   "outputs": [
    {
     "data": {
      "text/markdown": [
       "It's currently sunny outside! A beautiful day to enjoy some time outdoors if you're able to."
      ],
      "text/plain": [
       "<IPython.core.display.Markdown object>"
      ]
     },
     "metadata": {},
     "output_type": "display_data"
    }
   ],
   "source": [
    "from IPython.display import Markdown, display\n",
    "import json\n",
    "#response_text = json.loads(invoke_response['response'][0])\n",
    "display(Markdown(invoke_response['response'][0]))"
   ]
  },
  {
   "cell_type": "markdown",
   "id": "2c1d2bce-be41-478c-8bed-b4037c385795",
   "metadata": {},
   "source": [
    "### Invoking AgentCore Runtime with boto3\n",
    "\n",
    "Now that your AgentCore Runtime was created you can invoke it with any AWS SDK. For instance, you can use the boto3 `invoke_agent_runtime` method for it."
   ]
  },
  {
   "cell_type": "code",
   "execution_count": 23,
   "id": "7f84e68d-6c04-41b9-bf5b-60edc3fa0985",
   "metadata": {},
   "outputs": [
    {
     "data": {
      "text/markdown": [
       "The answer to 2+2 is 4."
      ],
      "text/plain": [
       "<IPython.core.display.Markdown object>"
      ]
     },
     "metadata": {},
     "output_type": "display_data"
    }
   ],
   "source": [
    "import boto3\n",
    "agent_arn = launch_result.agent_arn\n",
    "agentcore_client = boto3.client(\n",
    "    'bedrock-agentcore',\n",
    "    region_name=region\n",
    ")\n",
    "\n",
    "boto3_response = agentcore_client.invoke_agent_runtime(\n",
    "    agentRuntimeArn=agent_arn,\n",
    "    qualifier=\"DEFAULT\",\n",
    "    payload=json.dumps({\"prompt\": \"What is 2+2?\"})\n",
    ")\n",
    "if \"text/event-stream\" in boto3_response.get(\"contentType\", \"\"):\n",
    "    content = []\n",
    "    for line in boto3_response[\"response\"].iter_lines(chunk_size=1):\n",
    "        if line:\n",
    "            line = line.decode(\"utf-8\")\n",
    "            if line.startswith(\"data: \"):\n",
    "                line = line[6:]\n",
    "                print(line)\n",
    "                content.append(line)\n",
    "    display(Markdown(\"\\n\".join(content)))\n",
    "else:\n",
    "    try:\n",
    "        events = []\n",
    "        for event in boto3_response.get(\"response\", []):\n",
    "            events.append(event)\n",
    "    except Exception as e:\n",
    "        events = [f\"Error reading EventStream: {e}\"]\n",
    "    display(Markdown(json.loads(events[0].decode(\"utf-8\"))))"
   ]
  },
  {
   "cell_type": "markdown",
   "id": "7d3fdfe404469632",
   "metadata": {},
   "source": [
    "## Cleanup (Optional)\n",
    "\n",
    "Let's now clean up the AgentCore Runtime created"
   ]
  },
  {
   "cell_type": "code",
   "execution_count": 24,
   "id": "7c243e86-a214-483c-aef1-d5243f28ca9e",
   "metadata": {},
   "outputs": [
    {
     "data": {
      "text/plain": [
       "('254599367545.dkr.ecr.us-east-1.amazonaws.com/bedrock-agentcore-strands_claude_getting_started',\n",
       " 'strands_claude_getting_started-I4bXK0B5GU',\n",
       " 'bedrock-agentcore-strands_claude_getting_started')"
      ]
     },
     "execution_count": 24,
     "metadata": {},
     "output_type": "execute_result"
    }
   ],
   "source": [
    "launch_result.ecr_uri, launch_result.agent_id, launch_result.ecr_uri.split('/')[1]"
   ]
  },
  {
   "cell_type": "code",
   "execution_count": 25,
   "id": "76a6cf1416830a54",
   "metadata": {},
   "outputs": [],
   "source": [
    "agentcore_control_client = boto3.client(\n",
    "    'bedrock-agentcore-control',\n",
    "    region_name=region\n",
    ")\n",
    "ecr_client = boto3.client(\n",
    "    'ecr',\n",
    "    region_name=region\n",
    "    \n",
    ")\n",
    "\n",
    "runtime_delete_response = agentcore_control_client.delete_agent_runtime(\n",
    "    agentRuntimeId=launch_result.agent_id,\n",
    "    \n",
    ")\n",
    "\n",
    "response = ecr_client.delete_repository(\n",
    "    repositoryName=launch_result.ecr_uri.split('/')[1],\n",
    "    force=True\n",
    ")"
   ]
  },
  {
   "cell_type": "markdown",
   "id": "b118ad38-feeb-4d1d-9d57-e5c845becc56",
   "metadata": {},
   "source": [
    "# Congratulations!"
   ]
  }
 ],
 "metadata": {
  "kernelspec": {
   "display_name": "Python 3 (ipykernel)",
   "language": "python",
   "name": "python3"
  },
  "language_info": {
   "codemirror_mode": {
    "name": "ipython",
    "version": 3
   },
   "file_extension": ".py",
   "mimetype": "text/x-python",
   "name": "python",
   "nbconvert_exporter": "python",
   "pygments_lexer": "ipython3",
   "version": "3.11.4"
  }
 },
 "nbformat": 4,
 "nbformat_minor": 5
}
