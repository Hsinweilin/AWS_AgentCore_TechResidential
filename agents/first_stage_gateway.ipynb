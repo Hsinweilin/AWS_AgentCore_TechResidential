{
 "cells": [
  {
   "cell_type": "code",
   "execution_count": 22,
   "id": "1d285eff-e66d-4bc5-a1ab-9a94b7d35914",
   "metadata": {},
   "outputs": [
    {
     "name": "stdout",
     "output_type": "stream",
     "text": [
      "Current directory: /Users/hsin-weilin/Desktop/projects/AWS_AgentCore_TechResidential/agents\n",
      "Python path includes current dir: True\n",
      "✅ utils imported successfully\n"
     ]
    }
   ],
   "source": [
    "import os\n",
    "import boto3\n",
    "import sys\n",
    "\n",
    "# Set AWS region\n",
    "os.environ['AWS_DEFAULT_REGION'] = os.environ.get('AWS_REGION', 'us-east-1')\n",
    "REGION = os.environ['AWS_DEFAULT_REGION']\n",
    "\n",
    "# # Import utils (adjust path as needed)\n",
    "# Add current directory to Python path explicitly\n",
    "current_dir = os.getcwd()\n",
    "if current_dir not in sys.path:\n",
    "    sys.path.insert(0, current_dir)\n",
    "\n",
    "print(f\"Current directory: {current_dir}\")\n",
    "print(f\"Python path includes current dir: {current_dir in sys.path}\")\n",
    "\n",
    "# Now try importing\n",
    "import techresidential_utils as utils\n",
    "print(\"✅ utils imported successfully\")"
   ]
  },
  {
   "cell_type": "code",
   "execution_count": 25,
   "id": "838c3375-769d-4412-881d-e7cd1c75fc12",
   "metadata": {},
   "outputs": [
    {
     "name": "stdout",
     "output_type": "stream",
     "text": [
      "Creating new user pool\n",
      "Domain created as well\n",
      "creating new resource server\n",
      "creating new m2m client\n",
      "User Pool ID: us-east-1_VKErYTcMn\n",
      "Client ID: 3cr4rm7rjj8hg5sumhqkhm2g1p\n",
      "Discovery URL: https://cognito-idp.us-east-1.amazonaws.com/us-east-1_VKErYTcMn/.well-known/openid-configuration\n"
     ]
    }
   ],
   "source": [
    "# Cognito configuration\n",
    "USER_POOL_NAME = \"techresidential-agentcore--user-pool\"\n",
    "RESOURCE_SERVER_ID = \"techresidential-gateway-id\"  \n",
    "RESOURCE_SERVER_NAME = \"techresidential-gateway-name\"\n",
    "CLIENT_NAME = \"techresidential-agentcore-gateway-client\"\n",
    "\n",
    "SCOPES = [\n",
    "    {\"ScopeName\": \"gateway:read\", \"ScopeDescription\": \"Read access\"},\n",
    "    {\"ScopeName\": \"gateway:write\", \"ScopeDescription\": \"Write access\"}\n",
    "]\n",
    "\n",
    "scopeString = f\"{RESOURCE_SERVER_ID}/gateway:read {RESOURCE_SERVER_ID}/gateway:write\"\n",
    "\n",
    "# Initialize Cognito client\n",
    "cognito = boto3.client(\"cognito-idp\", region_name=REGION)\n",
    "\n",
    "# Create Cognito resources\n",
    "user_pool_id = utils.get_or_create_user_pool(cognito, USER_POOL_NAME)\n",
    "utils.get_or_create_resource_server(cognito, user_pool_id, RESOURCE_SERVER_ID, RESOURCE_SERVER_NAME, SCOPES)\n",
    "client_id, client_secret = utils.get_or_create_m2m_client(cognito, user_pool_id, CLIENT_NAME, RESOURCE_SERVER_ID)\n",
    "\n",
    "cognito_discovery_url = f'https://cognito-idp.{REGION}.amazonaws.com/{user_pool_id}/.well-known/openid-configuration'\n",
    "\n",
    "print(f\"User Pool ID: {user_pool_id}\")\n",
    "print(f\"Client ID: {client_id}\")\n",
    "print(f\"Discovery URL: {cognito_discovery_url}\")"
   ]
  },
  {
   "cell_type": "code",
   "execution_count": 24,
   "id": "d25e2986-2c7d-45ec-a3b4-b7097d3673b3",
   "metadata": {},
   "outputs": [
    {
     "name": "stdout",
     "output_type": "stream",
     "text": [
      "attaching role policy agentcore-techresidential-gateway-role-role\n",
      "Gateway IAM Role ARN: arn:aws:iam::254599367545:role/agentcore-techresidential-gateway-role-role\n"
     ]
    }
   ],
   "source": [
    "# Create IAM role that allows Gateway to invoke your Lambda functions\n",
    "gateway_iam_role = utils.create_agentcore_gateway_role(\"techresidential-gateway-role\")\n",
    "gateway_role_arn = gateway_iam_role['Role']['Arn']\n",
    "print(f\"Gateway IAM Role ARN: {gateway_role_arn}\")"
   ]
  },
  {
   "cell_type": "code",
   "execution_count": 26,
   "id": "2bf6b6f9-6de8-4b70-a0d9-c84dd965eb8d",
   "metadata": {},
   "outputs": [
    {
     "name": "stdout",
     "output_type": "stream",
     "text": [
      "Gateway ID: techresidentialagentcoregateway-umoj4ednav\n",
      "Gateway URL: https://techresidentialagentcoregateway-umoj4ednav.gateway.bedrock-agentcore.us-east-1.amazonaws.com/mcp\n"
     ]
    }
   ],
   "source": [
    "# Initialize Gateway client\n",
    "gateway_client = boto3.client('bedrock-agentcore-control', region_name=REGION)\n",
    "\n",
    "# Configure Cognito authorizer\n",
    "auth_config = {\n",
    "    \"customJWTAuthorizer\": { \n",
    "        \"allowedClients\": [client_id],\n",
    "        \"discoveryUrl\": cognito_discovery_url\n",
    "    }\n",
    "}\n",
    "\n",
    "# Create the Gateway\n",
    "create_response = gateway_client.create_gateway(\n",
    "    name='TechResidentialAgentcoreGateway',\n",
    "    roleArn=gateway_role_arn,\n",
    "    protocolType='MCP',\n",
    "    authorizerType='CUSTOM_JWT',\n",
    "    authorizerConfiguration=auth_config,\n",
    "    description='AgentCore Gateway for TechResidential Lambda functions'\n",
    ")\n",
    "\n",
    "gatewayID = create_response[\"gatewayId\"]\n",
    "gatewayURL = create_response[\"gatewayUrl\"]\n",
    "\n",
    "print(f\"Gateway ID: {gatewayID}\")\n",
    "print(f\"Gateway URL: {gatewayURL}\")"
   ]
  },
  {
   "cell_type": "code",
   "execution_count": 27,
   "id": "3fc3c170-80db-450e-9c60-dbfc9af38886",
   "metadata": {},
   "outputs": [
    {
     "name": "stdout",
     "output_type": "stream",
     "text": [
      "Get_Credentials target created successfully\n"
     ]
    }
   ],
   "source": [
    "# Replace with your actual Lambda ARN\n",
    "GET_CREDENTIALS_LAMBDA_ARN = \"arn:aws:lambda:us-east-1:254599367545:function:agentcore-credential-retrieval\"\n",
    "\n",
    "# lambda target configuration\n",
    "get_credentials_target_config = {\n",
    "    \"mcp\": {\n",
    "        \"lambda\": {\n",
    "            \"lambdaArn\": GET_CREDENTIALS_LAMBDA_ARN,\n",
    "            \"toolSchema\": {\n",
    "                \"inlinePayload\": [\n",
    "                    {\n",
    "                        # specify a tool name for the agent to use, a target can have many tools\n",
    "                        \"name\": \"get_credentials\",\n",
    "                        \"description\": \"Retrieve login credentials and website information for a client\",\n",
    "                        \"inputSchema\": {\n",
    "                            \"type\": \"object\",\n",
    "                            \"properties\": {\n",
    "                                \"client_name\": {\n",
    "                                    \"type\": \"string\",\n",
    "                                    \"description\": \"Name of the client (e.g., TechResidential)\"\n",
    "                                }\n",
    "                            },\n",
    "                            \"required\": [\"client_name\"]\n",
    "                            # require client_name in the event to invoke\n",
    "                        }\n",
    "                    }\n",
    "                ]\n",
    "            }\n",
    "        }\n",
    "    }\n",
    "}\n",
    "\n",
    "# gateway IAM role will be passed on to this target\n",
    "get_credential_config = [{\"credentialProviderType\": \"GATEWAY_IAM_ROLE\"}]\n",
    "\n",
    "# create a gateway lambda target\n",
    "credentials_target = gateway_client.create_gateway_target(\n",
    "    gatewayIdentifier=gatewayID,\n",
    "    name='CredentialsRetriever',\n",
    "    description='Lambda target for retrieving client credentials',\n",
    "    targetConfiguration=get_credentials_target_config,\n",
    "    credentialProviderConfigurations=get_credential_config\n",
    ")\n",
    "\n",
    "print(\"Get_Credentials target created successfully\")"
   ]
  },
  {
   "cell_type": "code",
   "execution_count": 28,
   "id": "badb7fac-ead4-4904-acf7-10ce9e3fe17f",
   "metadata": {},
   "outputs": [
    {
     "name": "stdout",
     "output_type": "stream",
     "text": [
      "S3 file retriever target created successfully\n"
     ]
    }
   ],
   "source": [
    "# Replace with your actual Lambda ARN\n",
    "GET_S3_PROMPTFILE_LAMBDA_ARN = \"arn:aws:lambda:us-east-1:254599367545:function:agentcore-prompt-file-retrieval\"\n",
    "\n",
    "get_prompt_file_target_config = {\n",
    "    \"mcp\": {\n",
    "        \"lambda\": {\n",
    "            \"lambdaArn\": GET_S3_PROMPTFILE_LAMBDA_ARN,\n",
    "            \"toolSchema\": {\n",
    "                \"inlinePayload\": [\n",
    "                    {\n",
    "                        \"name\": \"get_prompt_file\",\n",
    "                        \"description\": \"Retrieve prompt file from S3 for a client\",\n",
    "                        \"inputSchema\": {\n",
    "                            \"type\": \"object\",\n",
    "                            \"properties\": {\n",
    "                                \"client_name\": {\n",
    "                                    \"type\": \"string\",\n",
    "                                    \"description\": \"Name of the client (e.g., TechResidential)\"\n",
    "                                }\n",
    "                            },\n",
    "                            \"required\": [\"client_name\"]\n",
    "                        }\n",
    "                    }\n",
    "                ]\n",
    "            }\n",
    "        }\n",
    "    }\n",
    "}\n",
    "\n",
    "s3_target = gateway_client.create_gateway_target(\n",
    "    gatewayIdentifier=gatewayID,\n",
    "    name='PromptFileRetriever',\n",
    "    description='Lambda target for retrieving client prompt files from S3',\n",
    "    targetConfiguration=get_prompt_file_target_config,\n",
    "    credentialProviderConfigurations=get_credential_config\n",
    ")\n",
    "\n",
    "print(\"S3 file retriever target created successfully\")"
   ]
  },
  {
   "cell_type": "code",
   "execution_count": 29,
   "id": "7eff55eb-4a47-43a9-abeb-bfb994f45c05",
   "metadata": {},
   "outputs": [
    {
     "name": "stdout",
     "output_type": "stream",
     "text": [
      "105ld6eu7n12l6hmbu3dtmin3ea0ehse7hmgo2v3b1pusqmgkajr\n"
     ]
    }
   ],
   "source": [
    "print(client_secret)"
   ]
  },
  {
   "cell_type": "code",
   "execution_count": 30,
   "id": "2324a57a-28e2-4f06-ade9-8b092b3ff2de",
   "metadata": {},
   "outputs": [
    {
     "name": "stdout",
     "output_type": "stream",
     "text": [
      "Requesting access token from Cognito...\n",
      "3cr4rm7rjj8hg5sumhqkhm2g1p\n",
      "Access token obtained successfully\n"
     ]
    }
   ],
   "source": [
    "import time\n",
    "time.sleep(10)  # Wait for domain propagation. This is necessary because Cognito is a global service and clients (agents, browsers, SDKs) from any location need to be able to reach the domain for authentication and token requests.\n",
    "\n",
    "print(\"Requesting access token from Cognito...\")\n",
    "token_response = utils.get_token(user_pool_id, client_id, client_secret, scopeString, REGION)\n",
    "token = token_response[\"access_token\"]\n",
    "print(\"Access token obtained successfully\")"
   ]
  },
  {
   "cell_type": "code",
   "execution_count": 31,
   "id": "9826769b-a826-44d1-a827-e21e9eda51ac",
   "metadata": {},
   "outputs": [
    {
     "ename": "AttributeError",
     "evalue": "'MCPAgentTool' object has no attribute 'name'",
     "output_type": "error",
     "traceback": [
      "\u001b[31m---------------------------------------------------------------------------\u001b[39m",
      "\u001b[31mAttributeError\u001b[39m                            Traceback (most recent call last)",
      "\u001b[36mCell\u001b[39m\u001b[36m \u001b[39m\u001b[32mIn[31]\u001b[39m\u001b[32m, line 27\u001b[39m\n\u001b[32m     24\u001b[39m \u001b[38;5;28;01mwith\u001b[39;00m client:\n\u001b[32m     25\u001b[39m     \u001b[38;5;66;03m# List available tools\u001b[39;00m\n\u001b[32m     26\u001b[39m     tools = client.list_tools_sync()\n\u001b[32m---> \u001b[39m\u001b[32m27\u001b[39m     \u001b[38;5;28mprint\u001b[39m(\u001b[33mf\u001b[39m\u001b[33m\"\u001b[39m\u001b[33mAvailable tools: \u001b[39m\u001b[38;5;132;01m{\u001b[39;00m\u001b[43m[\u001b[49m\u001b[43mtool\u001b[49m\u001b[43m.\u001b[49m\u001b[43mname\u001b[49m\u001b[38;5;250;43m \u001b[39;49m\u001b[38;5;28;43;01mfor\u001b[39;49;00m\u001b[38;5;250;43m \u001b[39;49m\u001b[43mtool\u001b[49m\u001b[38;5;250;43m \u001b[39;49m\u001b[38;5;129;43;01min\u001b[39;49;00m\u001b[38;5;250;43m \u001b[39;49m\u001b[43mtools\u001b[49m\u001b[43m]\u001b[49m\u001b[38;5;132;01m}\u001b[39;00m\u001b[33m\"\u001b[39m)\n\u001b[32m     29\u001b[39m     \u001b[38;5;66;03m# Create agent with tools\u001b[39;00m\n\u001b[32m     30\u001b[39m     agent = Agent(model=model, tools=tools)\n",
      "\u001b[36mCell\u001b[39m\u001b[36m \u001b[39m\u001b[32mIn[31]\u001b[39m\u001b[32m, line 27\u001b[39m, in \u001b[36m<listcomp>\u001b[39m\u001b[34m(.0)\u001b[39m\n\u001b[32m     24\u001b[39m \u001b[38;5;28;01mwith\u001b[39;00m client:\n\u001b[32m     25\u001b[39m     \u001b[38;5;66;03m# List available tools\u001b[39;00m\n\u001b[32m     26\u001b[39m     tools = client.list_tools_sync()\n\u001b[32m---> \u001b[39m\u001b[32m27\u001b[39m     \u001b[38;5;28mprint\u001b[39m(\u001b[33mf\u001b[39m\u001b[33m\"\u001b[39m\u001b[33mAvailable tools: \u001b[39m\u001b[38;5;132;01m{\u001b[39;00m[\u001b[43mtool\u001b[49m\u001b[43m.\u001b[49m\u001b[43mname\u001b[49m\u001b[38;5;250m \u001b[39m\u001b[38;5;28;01mfor\u001b[39;00m\u001b[38;5;250m \u001b[39mtool\u001b[38;5;250m \u001b[39m\u001b[38;5;129;01min\u001b[39;00m\u001b[38;5;250m \u001b[39mtools]\u001b[38;5;132;01m}\u001b[39;00m\u001b[33m\"\u001b[39m)\n\u001b[32m     29\u001b[39m     \u001b[38;5;66;03m# Create agent with tools\u001b[39;00m\n\u001b[32m     30\u001b[39m     agent = Agent(model=model, tools=tools)\n",
      "\u001b[31mAttributeError\u001b[39m: 'MCPAgentTool' object has no attribute 'name'"
     ]
    }
   ],
   "source": [
    "from strands.models import BedrockModel\n",
    "from mcp.client.streamable_http import streamablehttp_client \n",
    "from strands.tools.mcp.mcp_client import MCPClient\n",
    "from strands import Agent\n",
    "import logging\n",
    "\n",
    "# Configure logging\n",
    "logging.getLogger(\"strands\").setLevel(logging.INFO)\n",
    "logging.basicConfig(format=\"%(levelname)s | %(name)s | %(message)s\", handlers=[logging.StreamHandler()])\n",
    "\n",
    "# Create MCP client\n",
    "def create_streamable_http_transport():\n",
    "    return streamablehttp_client(gatewayURL, headers={\"Authorization\": f\"Bearer {token}\"})\n",
    "\n",
    "client = MCPClient(create_streamable_http_transport)\n",
    "\n",
    "# Initialize Bedrock model\n",
    "model = BedrockModel(\n",
    "    model_id=\"us.anthropic.claude-3-7-sonnet-20250219-v1:0\",\n",
    "    temperature=0.7,\n",
    ")\n",
    "\n",
    "# Test the integration\n",
    "with client:\n",
    "    # List available tools\n",
    "    tools = client.list_tools_sync()\n",
    "    print(f\"Available tools: {[tool.name for tool in tools]}\")\n",
    "    \n",
    "    # Create agent with tools\n",
    "    agent = Agent(model=model, tools=tools)\n",
    "    \n",
    "    # Test credentials retrieval\n",
    "    print(\"\\n=== Testing Credentials Retrieval ===\")\n",
    "    response = agent(\"Get the credentials for client TechResidential\")\n",
    "    print(response)\n",
    "    \n",
    "    # Test prompt file retrieval\n",
    "    print(\"\\n=== Testing Prompt File Retrieval ===\")\n",
    "    response = agent(\"Get the prompt file for client TechResidential\")\n",
    "    print(response)\n",
    "    \n",
    "    # Test direct tool calls\n",
    "    print(\"\\n=== Direct Tool Call - Credentials ===\")\n",
    "    result = client.call_tool_sync(\n",
    "        tool_use_id=\"creds-call-1\",\n",
    "        name=\"CredentialsRetriever___get_credentials\",\n",
    "        arguments={\"client_name\": \"TechResidential\"}\n",
    "    )\n",
    "    print(f\"Credentials result: {result['content'][0]['text']}\")\n",
    "    \n",
    "    print(\"\\n=== Direct Tool Call - Prompt File ===\")\n",
    "    result = client.call_tool_sync(\n",
    "        tool_use_id=\"prompt-call-1\", \n",
    "        name=\"PromptFileRetriever___get_prompt_file\",\n",
    "        arguments={\"client_name\": \"TechResidential\"}\n",
    "    )\n",
    "    print(f\"Prompt file result: {result['content'][0]['text']}\")"
   ]
  },
  {
   "cell_type": "code",
   "execution_count": null,
   "id": "6b9b3db0-080f-45dc-abb0-f978212f1124",
   "metadata": {},
   "outputs": [],
   "source": []
  }
 ],
 "metadata": {
  "kernelspec": {
   "display_name": "Python 3 (ipykernel)",
   "language": "python",
   "name": "python3"
  },
  "language_info": {
   "codemirror_mode": {
    "name": "ipython",
    "version": 3
   },
   "file_extension": ".py",
   "mimetype": "text/x-python",
   "name": "python",
   "nbconvert_exporter": "python",
   "pygments_lexer": "ipython3",
   "version": "3.11.4"
  }
 },
 "nbformat": 4,
 "nbformat_minor": 5
}
