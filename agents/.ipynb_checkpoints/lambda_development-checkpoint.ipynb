{
 "cells": [
  {
   "cell_type": "code",
   "execution_count": 1,
   "id": "9dc4d09d-74c6-4ca6-b562-b8f9263fadb6",
   "metadata": {},
   "outputs": [
    {
     "name": "stdout",
     "output_type": "stream",
     "text": [
      "\u001b[31mERROR: pip's dependency resolver does not currently take into account all the packages that are installed. This behaviour is the source of the following dependency conflicts.\n",
      "pyopenssl 23.0.0 requires cryptography<40,>=38.0.0, but you have cryptography 46.0.1 which is incompatible.\n",
      "conda 23.5.2 requires ruamel-yaml<0.18,>=0.11.14, but you have ruamel-yaml 0.18.15 which is incompatible.\u001b[0m\u001b[31m\n",
      "\u001b[0m"
     ]
    }
   ],
   "source": [
    "!pip install --force-reinstall -U -r requirements.txt --quiet"
   ]
  },
  {
   "cell_type": "code",
   "execution_count": 8,
   "id": "b38fecd4-07de-4255-9227-2c3674725a0b",
   "metadata": {},
   "outputs": [
    {
     "name": "stdout",
     "output_type": "stream",
     "text": [
      "Overwriting enhanced_strands_claude_with_nova.py\n"
     ]
    }
   ],
   "source": [
    "%%writefile enhanced_strands_claude_with_nova.py\n",
    "# Example: Enhanced Strands agent with Nova Act browser tool\n",
    "from strands import Agent, tool\n",
    "from strands_tools import calculator\n",
    "from strands.models import BedrockModel\n",
    "from bedrock_agentcore.runtime import BedrockAgentCoreApp\n",
    "from bedrock_agentcore.tools.browser_client import browser_session\n",
    "from nova_act import NovaAct\n",
    "import json\n",
    "\n",
    "app = BedrockAgentCoreApp()\n",
    "\n",
    "# Original custom tool \n",
    "@tool\n",
    "def weather():\n",
    "    \"\"\" Get weather \"\"\" \n",
    "    return \"sunny\"\n",
    "\n",
    "# NEW: Nova Act browser tool\n",
    "@tool\n",
    "def browse_web(instruction: str, starting_url: str = \"https://google.com\"):\n",
    "    \"\"\"Use Nova Act to browse the web and complete web-based tasks\n",
    "    \n",
    "    Args:\n",
    "        instruction: What you want to accomplish on the web\n",
    "        starting_url: URL to start from\n",
    "    \n",
    "    Returns:\n",
    "        Result of the web browsing task\n",
    "    \"\"\"\n",
    "    try:\n",
    "        with browser_session(\"us-east-1\") as browser_client:\n",
    "            ws_url, headers = browser_client.generate_ws_headers()\n",
    "            \n",
    "            with NovaAct(\n",
    "                cdp_endpoint_url=ws_url,\n",
    "                cdp_headers=headers,\n",
    "                nova_act_api_key=\"your-nova-act-api-key\",  # Replace with your key\n",
    "                starting_page=starting_url,\n",
    "            ) as nova_act:\n",
    "                result = nova_act.act(instruction)\n",
    "                return f\"Web task completed: {str(result)}\"\n",
    "    except Exception as e:\n",
    "        return f\"Error browsing web: {str(e)}\"\n",
    "\n",
    "# Initialize enhanced agent with Nova Act\n",
    "model_id = \"us.anthropic.claude-3-7-sonnet-20250219-v1:0\"\n",
    "model = BedrockModel(model_id=model_id)\n",
    "\n",
    "agent = Agent(\n",
    "    model=model,\n",
    "    tools=[calculator, weather, browse_web],  # Now includes web browsing!\n",
    "    system_prompt=\"You're a helpful assistant. You can do math calculations, tell the weather, and browse the web to find information.\"\n",
    ")\n",
    "\n",
    "@app.entrypoint\n",
    "def enhanced_strands_agent(payload):\n",
    "    \"\"\"Enhanced agent that can browse the web\"\"\"\n",
    "    user_input = payload.get(\"prompt\")\n",
    "    print(\"User input:\", user_input)\n",
    "    response = agent(user_input)\n",
    "    return response.message['content'][0]['text']\n",
    "\n",
    "if __name__ == \"__main__\":\n",
    "    app.run()"
   ]
  },
  {
   "cell_type": "code",
   "execution_count": null,
   "id": "cce2e8c4-b380-4ddf-9dce-9f7622e37a76",
   "metadata": {},
   "outputs": [],
   "source": [
    "from strands import Agent, tool\n",
    "from strands_tools import calculator\n",
    "from strands.models import BedrockModel\n",
    "from bedrock_agentcore.runtime import BedrockAgentCoreApp\n",
    "from bedrock_agentcore.tools.browser_client import browser_session\n",
    "from nova_act import NovaAct\n",
    "import json\n",
    "\n",
    "app = BedrockAgentCoreApp()\n",
    "\n",
    "# Original custom tool \n",
    "@tool\n",
    "def weather():\n",
    "    \"\"\" Get weather \"\"\" \n",
    "    return \"sunny\"\n",
    "\n",
    "# NEW: Nova Act browser tool\n",
    "@tool\n",
    "def browse_web(instruction: str, starting_url: str = \"https://google.com\"):\n",
    "    \"\"\"Use Nova Act to browse the web and complete web-based tasks\n",
    "    \n",
    "    Args:\n",
    "        instruction: What you want to accomplish on the web\n",
    "        starting_url: URL to start from\n",
    "    \n",
    "    Returns:\n",
    "        Result of the web browsing task\n",
    "    \"\"\"\n",
    "    try:\n",
    "        with browser_session(\"us-east-1\") as browser_client:\n",
    "            ws_url, headers = browser_client.generate_ws_headers()\n",
    "            \n",
    "            with NovaAct(\n",
    "                cdp_endpoint_url=ws_url,\n",
    "                cdp_headers=headers,\n",
    "                nova_act_api_key='50d5f914-8f10-4a14-be4c-2f51f31af940',  # Replace with your key\n",
    "                starting_page=starting_url,\n",
    "            ) as nova_act:\n",
    "                result = nova_act.act(instruction)\n",
    "                return f\"Web task completed: {str(result)}\"\n",
    "    except Exception as e:\n",
    "        return f\"Error browsing web: {str(e)}\"\n",
    "\n",
    "# Initialize enhanced agent with Nova Act\n",
    "model_id = \"us.anthropic.claude-3-7-sonnet-20250219-v1:0\"\n",
    "model = BedrockModel(model_id=model_id)\n",
    "\n",
    "agent = Agent(\n",
    "    model=model,\n",
    "    tools=[calculator, weather, browse_web],  # Now includes web browsing!\n",
    "    system_prompt=\"You're a helpful assistant. You can do math calculations, tell the weather, and browse the web to find information.\"\n",
    ")\n"
   ]
  },
  {
   "cell_type": "code",
   "execution_count": null,
   "id": "01e0d745-b322-4486-89ab-0a76579ac3d3",
   "metadata": {},
   "outputs": [],
   "source": [
    "# 🚀 Try your own queries! Change the prompt below:\n",
    "your_query = \"Can you go to amazon.com and search for macbook, and give me a summary of first item?\"\n",
    "\n",
    "response = agent(your_query)\n",
    "print(\"agent working now)"
   ]
  }
 ],
 "metadata": {
  "kernelspec": {
   "display_name": "Python 3 (ipykernel)",
   "language": "python",
   "name": "python3"
  },
  "language_info": {
   "codemirror_mode": {
    "name": "ipython",
    "version": 3
   },
   "file_extension": ".py",
   "mimetype": "text/x-python",
   "name": "python",
   "nbconvert_exporter": "python",
   "pygments_lexer": "ipython3",
   "version": "3.11.4"
  }
 },
 "nbformat": 4,
 "nbformat_minor": 5
}
